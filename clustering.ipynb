{
 "cells": [
  {
   "cell_type": "code",
   "execution_count": 1,
   "id": "71339494",
   "metadata": {},
   "outputs": [],
   "source": [
    "import numpy as np\n",
    "import pandas"
   ]
  },
  {
   "cell_type": "code",
   "execution_count": 2,
   "id": "b83d9881",
   "metadata": {},
   "outputs": [],
   "source": [
    "def loader(version):\n",
    "    return(pandas.read_csv('DB_clu_' + str(version) +'.tsv', delimiter='\\t', header = None))"
   ]
  },
  {
   "cell_type": "code",
   "execution_count": 3,
   "id": "c008968b",
   "metadata": {},
   "outputs": [],
   "source": [
    "def pairs(name, check, version, data):\n",
    "    s = []\n",
    "    with open(name + '.domtblout' , 'r') as f:\n",
    "        for line in f:\n",
    "            g = line.split(' ')\n",
    "            for element in g:\n",
    "                if 'cds' in element:\n",
    "                    s.append(element)\n",
    "    #print(s)\n",
    "    needed = data[data[0].isin(s)]\n",
    "    m = []\n",
    "    with open(check + '.domtblout' , 'r') as f:\n",
    "        for line in f:\n",
    "            g = line.split(' ')\n",
    "            for element in g:\n",
    "                if 'cds' in element:\n",
    "                    m.append(element)\n",
    "    print(needed[needed[1].isin(m)])\n",
    "    needed.to_csv(name + '_' + str(version) + '.csv')    "
   ]
  },
  {
   "cell_type": "code",
   "execution_count": 4,
   "id": "2b7da43d",
   "metadata": {},
   "outputs": [
    {
     "name": "stdout",
     "output_type": "stream",
     "text": [
      "0.68_mode1\n"
     ]
    }
   ],
   "source": [
    "version = input()\n",
    "data = loader(version)"
   ]
  },
  {
   "cell_type": "code",
   "execution_count": 9,
   "id": "fdf92324",
   "metadata": {},
   "outputs": [
    {
     "name": "stdout",
     "output_type": "stream",
     "text": [
      "freshwater\n",
      "marine\n",
      "                                              0  \\\n",
      "3405429  AMD-salida-h-C6-cds278|AMD-salida-h-C6   \n",
      "3405430  AMD-salida-h-C6-cds278|AMD-salida-h-C6   \n",
      "3405431  AMD-salida-h-C6-cds278|AMD-salida-h-C6   \n",
      "3405433  AMD-salida-h-C6-cds278|AMD-salida-h-C6   \n",
      "3405435  AMD-salida-h-C6-cds278|AMD-salida-h-C6   \n",
      "...                                         ...   \n",
      "5846595       BS307-5m-C751-cds47|BS307-5m-C751   \n",
      "5846596       BS307-5m-C751-cds47|BS307-5m-C751   \n",
      "5846597       BS307-5m-C751-cds47|BS307-5m-C751   \n",
      "5846598       BS307-5m-C751-cds47|BS307-5m-C751   \n",
      "5846603       BS307-5m-C751-cds47|BS307-5m-C751   \n",
      "\n",
      "                                                         1  \n",
      "3405429  TARA-031-SRF-0.22-1.6-C42348-cds28|TARA-031-SR...  \n",
      "3405430  3300000117_____DelMOWin2010_c10000577-cds19|33...  \n",
      "3405431  TARA-064-DCM-0.22-C11640-cds17|TARA-064-DCM-0....  \n",
      "3405433  3300009593_____Ga0115011_10000369-cds21|330000...  \n",
      "3405435          SRR7592287-C34310-cds46|SRR7592287-C34310  \n",
      "...                                                    ...  \n",
      "5846595          ERR3589568-C46557-cds22|ERR3589568-C46557  \n",
      "5846596  3300009175_____Ga0073936_10000244-cds88|330000...  \n",
      "5846597  3300001274_____B570J13895_1000001-cds98|330000...  \n",
      "5846598  NODE-C167-Clength-C45964-Ccov-C27.3014-cds35|N...  \n",
      "5846603                  CPB2-Dv2-C212-cds22|CPB2-Dv2-C212  \n",
      "\n",
      "[82 rows x 2 columns]\n"
     ]
    }
   ],
   "source": [
    "name = input()\n",
    "check = input()\n",
    "pairs(name, check, version, data)"
   ]
  },
  {
   "cell_type": "code",
   "execution_count": 1,
   "id": "7537b81d",
   "metadata": {},
   "outputs": [],
   "source": [
    "with open('summary.faa', 'w') as f:\n",
    "    with open('curli_operons.faa', 'r') as g:\n",
    "        for line in g:\n",
    "            f.write(line)\n",
    "    with open('marine_curli_contigs.20kb.c90_aa.curli.faa', 'r') as h:\n",
    "        for line in h:\n",
    "            f.write(line)\n",
    "    with open('freshwater_brackish_contigs.20kb_aa.faa', 'r') as k:\n",
    "        for line in k:\n",
    "            f.write(line)"
   ]
  },
  {
   "cell_type": "code",
   "execution_count": null,
   "id": "996d8b29",
   "metadata": {},
   "outputs": [],
   "source": []
  }
 ],
 "metadata": {
  "kernelspec": {
   "display_name": "Python 3 (ipykernel)",
   "language": "python",
   "name": "python3"
  },
  "language_info": {
   "codemirror_mode": {
    "name": "ipython",
    "version": 3
   },
   "file_extension": ".py",
   "mimetype": "text/x-python",
   "name": "python",
   "nbconvert_exporter": "python",
   "pygments_lexer": "ipython3",
   "version": "3.8.10"
  }
 },
 "nbformat": 4,
 "nbformat_minor": 5
}
